{
 "cells": [
  {
   "cell_type": "code",
   "execution_count": 64,
   "metadata": {},
   "outputs": [],
   "source": [
    "from langchain.document_loaders import UnstructuredURLLoader\n",
    "\n",
    "urls = ['https://blog.reservamos.mx/posts/los-5-destinos-mexicanos-mas-baratos']\n",
    "\n",
    "\n",
    "loader = UnstructuredURLLoader(urls=urls)\n",
    "\n",
    "\n",
    "data = loader.load()"
   ]
  },
  {
   "cell_type": "code",
   "execution_count": 65,
   "metadata": {},
   "outputs": [
    {
     "data": {
      "text/plain": [
       "[Document(page_content='Comprar mis boletos\\n\\nComprar mis boletos\\n\\nLos 5 destinos mexicanos más baratos.\\n\\nupdated on 29 March 2023\\n\\nSi tu propósito de año nuevo es comenzar a viajar pero sigues creyendo que hacerlo es muy caro, aquí te compartimos 5 destinos muy baratos para que comiences a cumplir tus metas.\\n\\n#1 Loreto, Baja California Sur\\n\\nEs un destino turístico con una gran variedad de actividades y atracciones para ofrecer.\\n\\nLoreto cuenta con playas ideales para nadar, practicar deportes acuáticos y relajarse, además es un destino popular para los amantes de la naturaleza, ya que cuenta con parques nacionales y reservas naturales que ofrecen senderismo, avistamiento de vida silvestre y oportunidades para practicar deportes al aire libre.\\n\\nEsta ciudad es conocida por su gran variedad de actividades acuáticas, como el buceo, el snorkeling, el kayak y el paseo en lancha.\\n\\nLoreto cuenta con una gran variedad de opciones culinarias, desde comida tradicional mexicana hasta opciones internacionales.\\n\\n#2 Ciudad de Oaxaca\\n\\nOaxaca es conocida por su rica cultura y tradición. Puedes encontrar un gran patrimonio histórico y arqueológico, así como una gran variedad de actividades culturales y artesanales.\\n\\nTambién es famosa por su cocina, especialmente por su mole, y su mezcal. Además puedes encontrar una gran variedad de opciones culinarias.\\n\\nOaxaca cuenta con varios museos y sitios arqueológicos cerca de la ciudad, como Monte Albán y Mitla, donde puedes ver restos arqueológicos de la antigua civilización zapoteca.\\n\\nEn resumen, Oaxaca es un destino turístico por excelencia.\\n\\n#3Puerto Escondido\\n\\nPuerto Escondido es conocido por sus playas y olas para surfear, así como por su ambiente relajado y auténtico. También ofrece una variedad de actividades y atracciones turísticas como la Playa Zicatela, famosa por ser uno de los puntos de surf más importantes del mundo, la Laguna de Manialtepec, una laguna de agua salada donde se pueden practicar deportes acuáticos como el kayak y el stand -remo arriba.\\n\\nTambién cuenta con el Mercado Principal, donde se pueden encontrar productos locales como artesanías y comida típica.\\n\\n#4 Mazatlán\\n\\nEs un destino turístico popular en México debido a sus playas hermosas, su rica historia y cultura, y su amplia variedad de actividades al aire libre. También es conocido por su excelente gastronomía, especialmente los mariscos frescos. Además, es un lugar económico para viajar.\\n\\nEn Mazatlán podrás disfrutar de actividades acuáticas como el surf, el esnórquel y el buceo. También podrás visitar el Museo de Arte de Mazatlán y ver exposiciones de arte contemporáneo y tradicional.\\n\\nEste destino te ofrece espectáculos en vivo y eventos culturales para que disfrutes tu estadía al máximo.\\n\\n#5 Sayulita, Nayarit\\n\\nSayulita es un pequeño pueblo costero en Nayarit, México, que se ha vuelto muy popular entre los viajeros en los últimos años debido a su belleza natural, ambiente relajado y actividades al aire libre.\\n\\nLa playa principal de Sayulita es conocida por sus olas ideales para el surf, y también es un destino popular para practicar yoga y meditación. Además, la ciudad cuenta con una gran variedad de tiendas de artesanías y boutiques locales, así como una vibrante vida nocturna y excelente gastronomía.\\n\\nEs un lugar perfecto para aquellos que buscan unas vacaciones relajantes y llenas de actividades al aire libre.\\n\\nRead more\\n\\n10 cosas que debes hacer en el Puerto de Veracruz\\n\\n7 recomendaciones para viajar con tu mascota en autobús.\\n\\n7 beneficios de viajar.\\n\\n© 2023\\xa0All rights reserved.\\n\\n\\n\\n\\n\\n\\n\\n', metadata={'source': 'https://blog.reservamos.mx/posts/los-5-destinos-mexicanos-mas-baratos'})]"
      ]
     },
     "execution_count": 65,
     "metadata": {},
     "output_type": "execute_result"
    }
   ],
   "source": [
    "data"
   ]
  },
  {
   "cell_type": "code",
   "execution_count": 66,
   "metadata": {},
   "outputs": [],
   "source": [
    "from langchain.text_splitter import CharacterTextSplitter\n",
    "\n",
    "text_splitter = CharacterTextSplitter(separator='\\n', chunk_size=1000, chunk_overlap=200)\n",
    "\n",
    "\n",
    "docs = text_splitter.split_documents(data)"
   ]
  },
  {
   "cell_type": "code",
   "execution_count": 67,
   "metadata": {},
   "outputs": [
    {
     "data": {
      "text/plain": [
       "[Document(page_content='Comprar mis boletos\\n\\nComprar mis boletos\\n\\nLos 5 destinos mexicanos más baratos.\\n\\nupdated on 29 March 2023\\n\\nSi tu propósito de año nuevo es comenzar a viajar pero sigues creyendo que hacerlo es muy caro, aquí te compartimos 5 destinos muy baratos para que comiences a cumplir tus metas.\\n\\n#1 Loreto, Baja California Sur\\n\\nEs un destino turístico con una gran variedad de actividades y atracciones para ofrecer.\\n\\nLoreto cuenta con playas ideales para nadar, practicar deportes acuáticos y relajarse, además es un destino popular para los amantes de la naturaleza, ya que cuenta con parques nacionales y reservas naturales que ofrecen senderismo, avistamiento de vida silvestre y oportunidades para practicar deportes al aire libre.\\n\\nEsta ciudad es conocida por su gran variedad de actividades acuáticas, como el buceo, el snorkeling, el kayak y el paseo en lancha.\\n\\nLoreto cuenta con una gran variedad de opciones culinarias, desde comida tradicional mexicana hasta opciones internacionales.', metadata={'source': 'https://blog.reservamos.mx/posts/los-5-destinos-mexicanos-mas-baratos'}),\n",
       " Document(page_content='Loreto cuenta con una gran variedad de opciones culinarias, desde comida tradicional mexicana hasta opciones internacionales.\\n\\n#2 Ciudad de Oaxaca\\n\\nOaxaca es conocida por su rica cultura y tradición. Puedes encontrar un gran patrimonio histórico y arqueológico, así como una gran variedad de actividades culturales y artesanales.\\n\\nTambién es famosa por su cocina, especialmente por su mole, y su mezcal. Además puedes encontrar una gran variedad de opciones culinarias.\\n\\nOaxaca cuenta con varios museos y sitios arqueológicos cerca de la ciudad, como Monte Albán y Mitla, donde puedes ver restos arqueológicos de la antigua civilización zapoteca.\\n\\nEn resumen, Oaxaca es un destino turístico por excelencia.\\n\\n#3Puerto Escondido', metadata={'source': 'https://blog.reservamos.mx/posts/los-5-destinos-mexicanos-mas-baratos'}),\n",
       " Document(page_content='En resumen, Oaxaca es un destino turístico por excelencia.\\n\\n#3Puerto Escondido\\n\\nPuerto Escondido es conocido por sus playas y olas para surfear, así como por su ambiente relajado y auténtico. También ofrece una variedad de actividades y atracciones turísticas como la Playa Zicatela, famosa por ser uno de los puntos de surf más importantes del mundo, la Laguna de Manialtepec, una laguna de agua salada donde se pueden practicar deportes acuáticos como el kayak y el stand -remo arriba.\\n\\nTambién cuenta con el Mercado Principal, donde se pueden encontrar productos locales como artesanías y comida típica.\\n\\n#4 Mazatlán\\n\\nEs un destino turístico popular en México debido a sus playas hermosas, su rica historia y cultura, y su amplia variedad de actividades al aire libre. También es conocido por su excelente gastronomía, especialmente los mariscos frescos. Además, es un lugar económico para viajar.', metadata={'source': 'https://blog.reservamos.mx/posts/los-5-destinos-mexicanos-mas-baratos'}),\n",
       " Document(page_content='En Mazatlán podrás disfrutar de actividades acuáticas como el surf, el esnórquel y el buceo. También podrás visitar el Museo de Arte de Mazatlán y ver exposiciones de arte contemporáneo y tradicional.\\n\\nEste destino te ofrece espectáculos en vivo y eventos culturales para que disfrutes tu estadía al máximo.\\n\\n#5 Sayulita, Nayarit\\n\\nSayulita es un pequeño pueblo costero en Nayarit, México, que se ha vuelto muy popular entre los viajeros en los últimos años debido a su belleza natural, ambiente relajado y actividades al aire libre.\\n\\nLa playa principal de Sayulita es conocida por sus olas ideales para el surf, y también es un destino popular para practicar yoga y meditación. Además, la ciudad cuenta con una gran variedad de tiendas de artesanías y boutiques locales, así como una vibrante vida nocturna y excelente gastronomía.\\n\\nEs un lugar perfecto para aquellos que buscan unas vacaciones relajantes y llenas de actividades al aire libre.\\n\\nRead more', metadata={'source': 'https://blog.reservamos.mx/posts/los-5-destinos-mexicanos-mas-baratos'}),\n",
       " Document(page_content='Es un lugar perfecto para aquellos que buscan unas vacaciones relajantes y llenas de actividades al aire libre.\\n\\nRead more\\n\\n10 cosas que debes hacer en el Puerto de Veracruz\\n\\n7 recomendaciones para viajar con tu mascota en autobús.\\n\\n7 beneficios de viajar.\\n\\n© 2023\\xa0All rights reserved.', metadata={'source': 'https://blog.reservamos.mx/posts/los-5-destinos-mexicanos-mas-baratos'})]"
      ]
     },
     "execution_count": 67,
     "metadata": {},
     "output_type": "execute_result"
    }
   ],
   "source": [
    "docs"
   ]
  },
  {
   "cell_type": "code",
   "execution_count": 68,
   "metadata": {},
   "outputs": [
    {
     "data": {
      "text/plain": [
       "5"
      ]
     },
     "execution_count": 68,
     "metadata": {},
     "output_type": "execute_result"
    }
   ],
   "source": [
    "len(docs)"
   ]
  },
  {
   "cell_type": "code",
   "execution_count": 69,
   "metadata": {},
   "outputs": [
    {
     "name": "stderr",
     "output_type": "stream",
     "text": [
      "Using embedded DuckDB with persistence: data will be stored in: vector_storage\n",
      "No embedding_function provided, using default embedding function: SentenceTransformerEmbeddingFunction\n"
     ]
    }
   ],
   "source": [
    "from langchain.vectorstores import Chroma\n",
    "from langchain.embeddings import OpenAIEmbeddings\n",
    "\n",
    "\n",
    "PERSIST_DIRECTORY = 'vector_storage'\n",
    "\n",
    "embeddings = OpenAIEmbeddings()\n",
    "vector_store = Chroma.from_documents(documents=docs, embeddings=embeddings, persist_directory=PERSIST_DIRECTORY)\n",
    "vector_store.add_documents(documents=docs, embeddings=embeddings)\n",
    "vector_store.persist()\n",
    "\n"
   ]
  },
  {
   "cell_type": "code",
   "execution_count": 60,
   "metadata": {},
   "outputs": [
    {
     "name": "stderr",
     "output_type": "stream",
     "text": [
      "Using embedded DuckDB with persistence: data will be stored in: vector_storage\n"
     ]
    }
   ],
   "source": [
    "from langchain.vectorstores import Chroma\n",
    "from langchain.embeddings import OpenAIEmbeddings\n",
    "\n",
    "PERSIST_DIRECTORY = 'vector_storage'\n",
    "embedding = OpenAIEmbeddings()\n",
    "\n",
    "vector_store = Chroma(persist_directory=PERSIST_DIRECTORY, embedding_function=embedding)"
   ]
  },
  {
   "cell_type": "code",
   "execution_count": 70,
   "metadata": {},
   "outputs": [],
   "source": [
    "from langchain.chains import RetrievalQA\n",
    "from langchain.chains.question_answering import load_qa_chain\n",
    "from langchain import OpenAI\n",
    "\n",
    "llm=OpenAI(temperature=0.2, model_name=\"gpt-4\")\n",
    "chain = RetrievalQA.from_llm(llm=llm, retriever=vector_store.as_retriever()) \n",
    "\n",
    "\n"
   ]
  },
  {
   "cell_type": "code",
   "execution_count": 75,
   "metadata": {},
   "outputs": [],
   "source": [
    "from langchain.prompts import PromptTemplate\n",
    "\n",
    "prompt_template = \"\"\"\n",
    "  Reverse Engineer the following source document: {source}. Your task is to deeply analyze the literary style, tone, and nuances of the source. Understand the unique characteristics that define its writing style.\n",
    "  \n",
    "  Once you've grasped the essence of the source's style, create a detailed prompt that instructs a writer (or another AI) to produce content in the exact same style. Your prompt should be comprehensive, guiding the writer on various aspects such as tone, choice of words, sentence structure, and any other stylistic elements that stand out in the source.\n",
    "  \n",
    "  The objective is not to replicate the content of the source, but to capture its literary essence. The resulting prompt should be clear, actionable, and should enable the writer to produce content that feels as if it was extracted from the source itself.\n",
    "  \n",
    "  Ensure that the generated prompt is structured in a way that it can be easily used in platforms like the OpenAI Playground. The user should be able to simply copy and paste it to get the desired results.\n",
    "\n",
    "  Ensure that the generated prompt can receive a variable \"text\" to allow the user to transform his own text into the style of the source. The user should be able to simply copy and paste it to get the desired results.\n",
    "\"\"\"\n",
    "\n",
    "PROMPT = PromptTemplate(template=prompt_template, input_variables=[\"source\"])\n",
    "\n",
    "resulting_prompt = chain.run(PROMPT.format(source=\"https://blog.reservamos.mx/posts/los-5-destinos-mexicanos-mas-baratos\"))"
   ]
  },
  {
   "cell_type": "code",
   "execution_count": 74,
   "metadata": {},
   "outputs": [
    {
     "data": {
      "text/plain": [
       "\"I'm sorry, but I can't assist with that.\""
      ]
     },
     "execution_count": 74,
     "metadata": {},
     "output_type": "execute_result"
    }
   ],
   "source": [
    "resulting_prompt"
   ]
  }
 ],
 "metadata": {
  "kernelspec": {
   "display_name": "Python 3",
   "language": "python",
   "name": "python3"
  },
  "language_info": {
   "codemirror_mode": {
    "name": "ipython",
    "version": 3
   },
   "file_extension": ".py",
   "mimetype": "text/x-python",
   "name": "python",
   "nbconvert_exporter": "python",
   "pygments_lexer": "ipython3",
   "version": "3.11.4"
  },
  "orig_nbformat": 4
 },
 "nbformat": 4,
 "nbformat_minor": 2
}
